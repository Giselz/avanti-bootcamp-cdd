{
 "cells": [
  {
   "cell_type": "markdown",
   "id": "ddefd3f6",
   "metadata": {},
   "source": [
    "# Comparação de Modelos de Machine Learning para predição de Sobrevivência"
   ]
  },
  {
   "cell_type": "code",
   "execution_count": 27,
   "id": "93252408",
   "metadata": {},
   "outputs": [],
   "source": [
    "import pandas as pd\n",
    "import numpy as np\n",
    "import seaborn as sns\n",
    "import matplotlib.pyplot as plt\n",
    "from sklearn.impute import KNNImputer\n",
    "from sklearn.linear_model import LinearRegression"
   ]
  },
  {
   "cell_type": "markdown",
   "id": "998a3099",
   "metadata": {},
   "source": [
    "## 1. Tratamento de Dados Discrepantes (Outliers)\n"
   ]
  },
  {
   "cell_type": "code",
   "execution_count": 4,
   "id": "8d4e108a",
   "metadata": {},
   "outputs": [],
   "source": [
    "df = pd.read_csv('../data/raw/train.csv')\n",
    "df.to_csv('../data/raw/train.csv', index=False)"
   ]
  },
  {
   "cell_type": "code",
   "execution_count": 8,
   "id": "4c72e2bf",
   "metadata": {},
   "outputs": [
    {
     "name": "stdout",
     "output_type": "stream",
     "text": [
      "Linhas removidas devido a outliers: 56\n"
     ]
    }
   ],
   "source": [
    "# Tratamento de Outliers\n",
    "Q1 = df.quantile(0.25, numeric_only=True)\n",
    "Q3 = df.quantile(0.75, numeric_only=True)\n",
    "IQR = Q3 - Q1\n",
    "\n",
    "# Limites para identificar outliers\n",
    "limite_inferior = Q1 - 1.5 * IQR\n",
    "limite_superior = Q3 + 1.5 * IQR\n",
    "\n",
    "# Alinhar índices e colunas para as comparações\n",
    "df_alinhado, limite_inferior = df.align(limite_inferior, axis=1, copy=False)\n",
    "_, limite_superior = df.align(limite_superior, axis=1, copy=False)\n",
    "\n",
    "# Remover outliers com alinhamento explícito\n",
    "df_sem_outliers = df_alinhado[~((df_alinhado < limite_inferior) | (df_alinhado > limite_superior)).any(axis=1)]\n",
    "\n",
    "# Identificar outliers (caso necessário)\n",
    "outliers = df_alinhado[((df_alinhado < limite_inferior) | (df_alinhado > limite_superior)).any(axis=1)]\n",
    "\n",
    "print(f\"Linhas removidas devido a outliers: {len(df) - len(df_sem_outliers)}\")\n",
    "\n",
    "# Atualizar DataFrame após remoção\n",
    "df = df_sem_outliers\n"
   ]
  },
  {
   "cell_type": "markdown",
   "id": "1b1cfd8e",
   "metadata": {},
   "source": [
    "## 2. Tratamento de Dados Faltantes\n"
   ]
  },
  {
   "cell_type": "markdown",
   "id": "8bf0f39f",
   "metadata": {},
   "source": [
    "### * Remover Linhas/Colunas com Dados Faltantes Insignificantes"
   ]
  },
  {
   "cell_type": "code",
   "execution_count": 13,
   "id": "e216a228",
   "metadata": {},
   "outputs": [
    {
     "name": "stdout",
     "output_type": "stream",
     "text": [
      "Age             99\n",
      "Cabin          369\n",
      "Embarked         0\n",
      "Fare             0\n",
      "Name             0\n",
      "Parch            0\n",
      "PassengerId      0\n",
      "Pclass           0\n",
      "Sex              0\n",
      "SibSp            0\n",
      "Survived         0\n",
      "Ticket           0\n",
      "dtype: int64\n",
      "Após os tratamentos:\n",
      "Age            0\n",
      "Embarked       0\n",
      "Fare           0\n",
      "Name           0\n",
      "Parch          0\n",
      "PassengerId    0\n",
      "Pclass         0\n",
      "Sex            0\n",
      "SibSp          0\n",
      "Survived       0\n",
      "Ticket         0\n",
      "dtype: int64\n"
     ]
    }
   ],
   "source": [
    "# Verificar quantidade de dados faltantes por coluna\n",
    "print(df.isnull().sum())\n",
    "\n",
    "# Remover colunas com mais de 50% de valores faltantes\n",
    "df_limpo = df.dropna(thresh=df.shape[0] * 0.5, axis=1).copy()\n",
    "\n",
    "# Tratamento específico para valores ausentes em 'Age'\n",
    "# Preenchendo com a mediana, pois 'Age' é uma variável contínua\n",
    "if 'Age' in df_limpo.columns:\n",
    "    df_limpo.loc[:, 'Age'] = df_limpo['Age'].fillna(df_limpo['Age'].median())\n",
    "\n",
    "# Tratamento específico para valores ausentes em 'Embarked'\n",
    "# Preenchendo com o valor mais frequente (moda)\n",
    "if 'Embarked' in df_limpo.columns:\n",
    "    df_limpo.loc[:, 'Embarked'] = df_limpo['Embarked'].fillna(df_limpo['Embarked'].mode()[0])\n",
    "\n",
    "# Verificar novamente os valores faltantes após os tratamentos\n",
    "print(\"Após os tratamentos:\")\n",
    "print(df_limpo.isnull().sum())\n"
   ]
  },
  {
   "cell_type": "markdown",
   "id": "b65b82c2",
   "metadata": {},
   "source": [
    "### * Imputar Valores Ausentes\n"
   ]
  },
  {
   "cell_type": "code",
   "execution_count": 22,
   "id": "4c58ed90",
   "metadata": {},
   "outputs": [
    {
     "name": "stdout",
     "output_type": "stream",
     "text": [
      "Age              0\n",
      "Cabin          369\n",
      "Embarked         0\n",
      "Fare             0\n",
      "Name             0\n",
      "Parch            0\n",
      "PassengerId      0\n",
      "Pclass           0\n",
      "Sex              0\n",
      "SibSp            0\n",
      "Survived         0\n",
      "Ticket           0\n",
      "dtype: int64\n"
     ]
    }
   ],
   "source": [
    "# Certifique-se de estar trabalhando com o DataFrame completo e não uma fatia\n",
    "df = df.copy()  # Garantir que é uma cópia do DataFrame original\n",
    "\n",
    "# Imputar valores numéricos com a média (para 'Age')\n",
    "df['Age'] = df['Age'].fillna(df['Age'].mean())\n",
    "\n",
    "# Imputar valores categóricos com a moda (para 'Embarked')\n",
    "df['Embarked'] = df['Embarked'].fillna(df['Embarked'].mode()[0])\n",
    "\n",
    "# Verificar novamente os valores ausentes\n",
    "print(df.isnull().sum())\n"
   ]
  },
  {
   "cell_type": "code",
   "execution_count": 23,
   "id": "cae22c71",
   "metadata": {},
   "outputs": [
    {
     "name": "stdout",
     "output_type": "stream",
     "text": [
      "Age              0\n",
      "Cabin          369\n",
      "Embarked         0\n",
      "Fare             0\n",
      "Name             0\n",
      "Parch            0\n",
      "PassengerId      0\n",
      "Pclass           0\n",
      "Sex              0\n",
      "SibSp            0\n",
      "Survived         0\n",
      "Ticket           0\n",
      "dtype: int64\n"
     ]
    }
   ],
   "source": [
    "# Garantir que as alterações sejam feitas no DataFrame original com loc\n",
    "df.loc[:, 'Age'] = df['Age'].fillna(df['Age'].mean())\n",
    "df.loc[:, 'Embarked'] = df['Embarked'].fillna(df['Embarked'].mode()[0])\n",
    "\n",
    "# Verificar novamente os valores ausentes\n",
    "print(df.isnull().sum())\n"
   ]
  },
  {
   "cell_type": "code",
   "execution_count": 24,
   "id": "8fb7a82e",
   "metadata": {},
   "outputs": [],
   "source": [
    "df['Cabin'] = df['Cabin'].fillna('Desconhecido')\n"
   ]
  },
  {
   "cell_type": "code",
   "execution_count": 25,
   "id": "9ef3da90",
   "metadata": {},
   "outputs": [
    {
     "name": "stdout",
     "output_type": "stream",
     "text": [
      "Age            0\n",
      "Cabin          0\n",
      "Embarked       0\n",
      "Fare           0\n",
      "Name           0\n",
      "Parch          0\n",
      "PassengerId    0\n",
      "Pclass         0\n",
      "Sex            0\n",
      "SibSp          0\n",
      "Survived       0\n",
      "Ticket         0\n",
      "dtype: int64\n"
     ]
    }
   ],
   "source": [
    "# Exibir os valores faltantes após os tratamentos\n",
    "print(df.isnull().sum())\n"
   ]
  },
  {
   "cell_type": "markdown",
   "id": "0a4fd9a4",
   "metadata": {},
   "source": [
    "## 3. Imputação com Estatísticas de Tendência Central:"
   ]
  },
  {
   "cell_type": "code",
   "execution_count": 26,
   "id": "e0895bdb",
   "metadata": {},
   "outputs": [],
   "source": [
    "# Imputar valores numéricos com a média\n",
    "df['Age'] = df['Age'].fillna(df['Age'].mean())  # Exemplo para uma variável numérica\n",
    "\n",
    "# Imputar valores categóricos com a moda\n",
    "df['Embarked'] = df['Embarked'].fillna(df['Embarked'].mode()[0])  # Exemplo para uma variável categórica\n"
   ]
  },
  {
   "cell_type": "markdown",
   "id": "08154fa4",
   "metadata": {},
   "source": [
    "## 4. Imputação com Modelos Preditivos:\n"
   ]
  },
  {
   "cell_type": "code",
   "execution_count": 39,
   "id": "ef81ec94",
   "metadata": {},
   "outputs": [
    {
     "name": "stdout",
     "output_type": "stream",
     "text": [
      "(0, 12)\n",
      "Não há dados ausentes para imputar.\n"
     ]
    }
   ],
   "source": [
    "# Verifique se há valores ausentes em 'Age'\n",
    "df['Age'].isnull().sum()\n",
    "\n",
    "# Se houver valores ausentes, extraia os dados com 'Age' ausente\n",
    "df_faltante = df[df['Age'].isnull()]\n",
    "\n",
    "# Verifique se 'df_faltante' não está vazio\n",
    "print(df_faltante.shape)  # Isso irá mostrar quantas linhas estão faltando valores em 'Age'\n",
    "\n",
    "# Se houver linhas para prever, faça a imputação\n",
    "if df_faltante.shape[0] > 0:\n",
    "    X_faltante = df_faltante[['Pclass', 'Fare', 'SibSp']]  # Usar as mesmas variáveis para fazer a previsão\n",
    "    df_faltante['Age'] = modelo.predict(X_faltante)\n",
    "    df_final = pd.concat([df_completo, df_faltante])\n",
    "else:\n",
    "    print(\"Não há dados ausentes para imputar.\")\n"
   ]
  },
  {
   "cell_type": "code",
   "execution_count": null,
   "id": "9772c58e",
   "metadata": {},
   "outputs": [],
   "source": []
  }
 ],
 "metadata": {
  "kernelspec": {
   "display_name": "Python 3 (ipykernel)",
   "language": "python",
   "name": "python3"
  },
  "language_info": {
   "codemirror_mode": {
    "name": "ipython",
    "version": 3
   },
   "file_extension": ".py",
   "mimetype": "text/x-python",
   "name": "python",
   "nbconvert_exporter": "python",
   "pygments_lexer": "ipython3",
   "version": "3.10.11"
  }
 },
 "nbformat": 4,
 "nbformat_minor": 5
}
